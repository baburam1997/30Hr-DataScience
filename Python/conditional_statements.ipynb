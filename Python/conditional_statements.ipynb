{
 "cells": [
  {
   "cell_type": "markdown",
   "metadata": {},
   "source": [
    "## Conditional Statments"
   ]
  },
  {
   "cell_type": "markdown",
   "metadata": {},
   "source": [
    "Checking for the conditions > boolean values(True, False)"
   ]
  },
  {
   "cell_type": "markdown",
   "metadata": {},
   "source": [
    "## If Statement\n"
   ]
  },
  {
   "cell_type": "code",
   "execution_count": null,
   "metadata": {},
   "outputs": [],
   "source": [
    "# int age = 20\n",
    "# if (age>0){\n",
    "#     printf(\"%d\",age)\n",
    "# }"
   ]
  },
  {
   "cell_type": "code",
   "execution_count": 7,
   "metadata": {},
   "outputs": [
    {
     "name": "stdout",
     "output_type": "stream",
     "text": [
      "S/He can vote.\n"
     ]
    }
   ],
   "source": [
    "age = 18\n",
    "if age >= 18:\n",
    "    print(\"S/He can vote.\")"
   ]
  },
  {
   "cell_type": "code",
   "execution_count": 3,
   "metadata": {},
   "outputs": [],
   "source": [
    "age = -90\n",
    "if age > 0:\n",
    "    print(\"Valid age\")\n",
    "    print(\"Valid age\")\n",
    "    print(\"Valid age\")"
   ]
  },
  {
   "cell_type": "code",
   "execution_count": 6,
   "metadata": {},
   "outputs": [
    {
     "name": "stdout",
     "output_type": "stream",
     "text": [
      "You cannot vote.\n"
     ]
    }
   ],
   "source": [
    "age = 10\n",
    "if age < 18:\n",
    "    print(\"You cannot vote.\")"
   ]
  },
  {
   "cell_type": "code",
   "execution_count": 26,
   "metadata": {},
   "outputs": [
    {
     "name": "stdout",
     "output_type": "stream",
     "text": [
      "Even Number\n"
     ]
    }
   ],
   "source": [
    "number = 20\n",
    "if number % 2 == 0:\n",
    "    print(\"Even Number\")"
   ]
  },
  {
   "cell_type": "markdown",
   "metadata": {},
   "source": [
    "## If-else Statement"
   ]
  },
  {
   "cell_type": "code",
   "execution_count": 9,
   "metadata": {},
   "outputs": [
    {
     "name": "stdout",
     "output_type": "stream",
     "text": [
      "You cannot vote.\n"
     ]
    }
   ],
   "source": [
    "age = 2\n",
    "if age >= 18:\n",
    "    print(\"You can vote.\") # if block of code\n",
    "else:\n",
    "    print(\"You cannot vote.\") # else block of code"
   ]
  },
  {
   "cell_type": "code",
   "execution_count": 9,
   "metadata": {},
   "outputs": [
    {
     "name": "stdout",
     "output_type": "stream",
     "text": [
      "Even Number\n"
     ]
    }
   ],
   "source": [
    "number = 21\n",
    "if number % 2 == 0: # modulus division or reminder division, % sign is modulo\n",
    "    print(\"Even Number\")\n",
    "else:\n",
    "    print(\"Odd Number\")"
   ]
  },
  {
   "cell_type": "markdown",
   "metadata": {},
   "source": [
    "## if-elif-else Statement"
   ]
  },
  {
   "cell_type": "code",
   "execution_count": 17,
   "metadata": {},
   "outputs": [
    {
     "name": "stdout",
     "output_type": "stream",
     "text": [
      "Zero or negative\n"
     ]
    }
   ],
   "source": [
    "number = -45\n",
    "if number <= 0:\n",
    "    print(\"Zero or negative\")\n",
    "elif number % 2 == 0: # modulus division or reminder division, % sign is modulo\n",
    "    print(\"Even Number\")\n",
    "else:\n",
    "    print(\"Odd Number\")"
   ]
  },
  {
   "cell_type": "code",
   "execution_count": 21,
   "metadata": {},
   "outputs": [
    {
     "name": "stdout",
     "output_type": "stream",
     "text": [
      "Positive Number\n"
     ]
    }
   ],
   "source": [
    "number = 0.5\n",
    "if number == 0:\n",
    "    print(\"Zero\")\n",
    "elif number > 0:\n",
    "    print(\"Positive Number\")\n",
    "elif number< 0:\n",
    "    print(\"Negative Number\")\n",
    "else:\n",
    "    print(\"Invalid.\")"
   ]
  },
  {
   "cell_type": "code",
   "execution_count": 25,
   "metadata": {},
   "outputs": [
    {
     "name": "stdout",
     "output_type": "stream",
     "text": [
      "1st weekday\n",
      "Monday\n"
     ]
    }
   ],
   "source": [
    "def describe_day(day):\n",
    "    if day == \"Saturday\" or day == \"Sunday\":\n",
    "        print(\"Weekend\")\n",
    "    elif day == \"Monday\":\n",
    "        print(\"1st weekday\")\n",
    "    elif day == \"Tuesday\":\n",
    "        print(\"2nd Weekday\")\n",
    "    elif day == \"Wedneday\" or day == \"Thursday\":\n",
    "        print(\"Weekday\")\n",
    "    else:\n",
    "        print(\"Last Day of Weekday\")\n",
    "    return day\n",
    "day = \"Monday\"\n",
    "print(describe_day(day))"
   ]
  },
  {
   "cell_type": "markdown",
   "metadata": {},
   "source": [
    "## match Statement"
   ]
  },
  {
   "cell_type": "code",
   "execution_count": 1,
   "metadata": {},
   "outputs": [
    {
     "name": "stdout",
     "output_type": "stream",
     "text": [
      "Start of the work week.\n",
      "Weekend!\n",
      "It's just another day.\n"
     ]
    }
   ],
   "source": [
    "def is_weekend(day):\n",
    "    return day in [\"Saturday\", \"Sunday\"]\n",
    "\n",
    "def describe_day(day):\n",
    "    match day:\n",
    "        case \"Monday\":\n",
    "            return \"Start of the work week.\"\n",
    "        case \"Friday\":\n",
    "            return \"End of the work week.\"\n",
    "        case day if is_weekend(day):\n",
    "            return \"Weekend!\"\n",
    "        case _:\n",
    "            return \"It's just another day.\"\n",
    "print(describe_day(\"Friday\")) "
   ]
  },
  {
   "cell_type": "code",
   "execution_count": 10,
   "metadata": {},
   "outputs": [
    {
     "name": "stdout",
     "output_type": "stream",
     "text": [
      "i is smaller than 15\n",
      "i is smaller than 12 too\n"
     ]
    }
   ],
   "source": [
    "i = 10\n",
    "# if statement\n",
    "if (i == 10):\n",
    "#  First if statement\n",
    "    if (i < 15):\n",
    "        print(\"i is smaller than 15\")\n",
    "    # Nested - if statement\n",
    "    # Will only be executed if statement above it is true\n",
    "    if (i < 12):\n",
    "        print(\"i is smaller than 12 too\")\n",
    "    else:\n",
    "        print(\"i is greater than 15\")"
   ]
  },
  {
   "cell_type": "code",
   "execution_count": 30,
   "metadata": {},
   "outputs": [
    {
     "name": "stdout",
     "output_type": "stream",
     "text": [
      "i is not present\n"
     ]
    }
   ],
   "source": [
    "i = 25\n",
    "if (i == 10):\n",
    "    print(\"i is 10\")\n",
    "elif (i == 15):\n",
    "    print(\"i is 15\")\n",
    "elif (i == 20):\n",
    "    print(\"i is 20\")\n",
    "else:\n",
    "    print(\"i is not present\")"
   ]
  },
  {
   "cell_type": "markdown",
   "metadata": {},
   "source": [
    "## Multiple condition"
   ]
  },
  {
   "cell_type": "code",
   "execution_count": 28,
   "metadata": {},
   "outputs": [
    {
     "name": "stdout",
     "output_type": "stream",
     "text": [
      "True\n"
     ]
    }
   ],
   "source": [
    "age = 25\n",
    "condition = age >= 18\n",
    "print(condition)"
   ]
  },
  {
   "cell_type": "code",
   "execution_count": 31,
   "metadata": {},
   "outputs": [
    {
     "name": "stdout",
     "output_type": "stream",
     "text": [
      "You are allowed to enter. and vote\n"
     ]
    }
   ],
   "source": [
    "age = 25\n",
    "has_id = False\n",
    "if age >= 18 and has_id:\n",
    "    print(\"You are allowed to enter. and vote\")\n",
    "else:\n",
    "    print(\"You cannot enter.\")\n",
    "# and -> both conditon must be true to execute the if bloks\n",
    "# or -> one of the condition should be true"
   ]
  },
  {
   "cell_type": "code",
   "execution_count": 33,
   "metadata": {},
   "outputs": [
    {
     "name": "stdout",
     "output_type": "stream",
     "text": [
      "It's a good day for a walk.\n"
     ]
    }
   ],
   "source": [
    "temperature = 15\n",
    "raining = False\n",
    "if temperature > 20 or not raining:\n",
    "    print(\"It's a good day for a walk.\")\n",
    "else:\n",
    "    print(\"Better stay indoors.\")\n"
   ]
  },
  {
   "cell_type": "code",
   "execution_count": 33,
   "metadata": {},
   "outputs": [
    {
     "name": "stdout",
     "output_type": "stream",
     "text": [
      "It might rain today.\n"
     ]
    }
   ],
   "source": [
    "is_sunny = False\n",
    "if not is_sunny:\n",
    "    print(\"It might rain today.\")\n",
    "else:\n",
    "    print(\"It's sunny today.\")\n"
   ]
  },
  {
   "cell_type": "code",
   "execution_count": 34,
   "metadata": {},
   "outputs": [
    {
     "name": "stdout",
     "output_type": "stream",
     "text": [
      "You can enter, but no discount is available.\n"
     ]
    }
   ],
   "source": [
    "age = 20\n",
    "has_ticket = True\n",
    "is_student = False\n",
    "if age >= 18 and has_ticket and not is_student:\n",
    "    print(\"You can enter, but no discount is available.\")\n",
    "elif age >= 18 and has_ticket and is_student:\n",
    "    print(\"You can enter and get a student discount.\")\n",
    "else:\n",
    "    print(\"Entry not allowed.\")\n"
   ]
  },
  {
   "cell_type": "code",
   "execution_count": 40,
   "metadata": {},
   "outputs": [
    {
     "name": "stdout",
     "output_type": "stream",
     "text": [
      "70\n"
     ]
    }
   ],
   "source": [
    "a = 50\n",
    "b = 60\n",
    "c = 70\n",
    "\n",
    "if a>b and a>c:\n",
    "    print(a)\n",
    "elif b>a and b>c:\n",
    "    print(b)\n",
    "else:\n",
    "    print(c)"
   ]
  },
  {
   "cell_type": "code",
   "execution_count": 41,
   "metadata": {},
   "outputs": [
    {
     "name": "stdout",
     "output_type": "stream",
     "text": [
      "Negative number\n",
      "Even Number\n"
     ]
    }
   ],
   "source": [
    "number = 9\n",
    "if number >= 0:\n",
    "    print(\"Positive number\")\n",
    "    if number == 0:\n",
    "        print(\"Zero\")\n",
    "    elif number % 2 ==0:\n",
    "        print(\"Even Number\")\n",
    "    else:\n",
    "        print(\"Odd Number\")\n",
    "else:\n",
    "    print(\"Negative number\")\n",
    "    if number == 0:\n",
    "        print(\"Zero\")\n",
    "    elif number % 2 ==0:\n",
    "        print(\"Even Number\")\n",
    "    else:\n",
    "        print(\"Odd Number\")"
   ]
  }
 ],
 "metadata": {
  "kernelspec": {
   "display_name": "Python 3",
   "language": "python",
   "name": "python3"
  },
  "language_info": {
   "codemirror_mode": {
    "name": "ipython",
    "version": 3
   },
   "file_extension": ".py",
   "mimetype": "text/x-python",
   "name": "python",
   "nbconvert_exporter": "python",
   "pygments_lexer": "ipython3",
   "version": "3.10.12"
  }
 },
 "nbformat": 4,
 "nbformat_minor": 2
}
